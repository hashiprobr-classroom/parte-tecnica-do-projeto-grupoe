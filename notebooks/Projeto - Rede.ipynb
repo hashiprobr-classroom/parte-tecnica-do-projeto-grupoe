{
 "cells": [
  {
   "cell_type": "code",
   "execution_count": 2,
   "id": "89a7fb57",
   "metadata": {},
   "outputs": [
    {
     "data": {
      "text/html": [
       "\n",
       "    <script src=\"/files/netpixi.min.js\"></script>\n"
      ],
      "text/plain": [
       "<IPython.core.display.HTML object>"
      ]
     },
     "metadata": {},
     "output_type": "display_data"
    }
   ],
   "source": [
    "import pandas as pd\n",
    "from graph_tool import Graph\n",
    "from netpixi.data.gt import *\n",
    "import netpixi\n",
    "from graph_tool import centrality\n",
    "import seaborn as sns\n",
    "import matplotlib.pyplot as plt\n",
    "from graph_tool import clustering\n",
    "import cpnet\n",
    "import statsmodels.formula.api as smf\n",
    "from graph_tool import spectral\n",
    "from matplotlib import rcParams\n",
    "import numpy as np\n",
    "from math import sqrt\n",
    "import csv"
   ]
  },
  {
   "cell_type": "markdown",
   "id": "99b913d9",
   "metadata": {},
   "source": [
    "# Importando o Dataset"
   ]
  },
  {
   "cell_type": "code",
   "execution_count": 2,
   "id": "53f15e05",
   "metadata": {
    "collapsed": true
   },
   "outputs": [
    {
     "name": "stdout",
     "output_type": "stream",
     "text": [
      "Collecting opendatasets\n",
      "  Downloading opendatasets-0.1.20-py3-none-any.whl (14 kB)\n",
      "Collecting click\n",
      "  Downloading click-8.0.3-py3-none-any.whl (97 kB)\n",
      "\u001b[K     |████████████████████████████████| 97 kB 1.7 MB/s eta 0:00:01\n",
      "\u001b[?25hCollecting kaggle\n",
      "  Downloading kaggle-1.5.12.tar.gz (58 kB)\n",
      "\u001b[K     |████████████████████████████████| 58 kB 8.1 MB/s  eta 0:00:01\n",
      "\u001b[?25hRequirement already satisfied: tqdm in /usr/local/lib/python3.7/site-packages (from opendatasets) (4.62.2)\n",
      "Requirement already satisfied: importlib-metadata in /usr/local/lib/python3.7/site-packages (from click->opendatasets) (4.6.4)\n",
      "Requirement already satisfied: typing-extensions>=3.6.4 in /usr/local/lib/python3.7/site-packages (from importlib-metadata->click->opendatasets) (3.10.0.0)\n",
      "Requirement already satisfied: zipp>=0.5 in /usr/local/lib/python3.7/site-packages (from importlib-metadata->click->opendatasets) (3.5.0)\n",
      "Requirement already satisfied: six>=1.10 in /usr/local/lib/python3.7/site-packages (from kaggle->opendatasets) (1.16.0)\n",
      "Collecting certifi\n",
      "  Downloading certifi-2021.10.8-py2.py3-none-any.whl (149 kB)\n",
      "\u001b[K     |████████████████████████████████| 149 kB 3.9 MB/s eta 0:00:01\n",
      "\u001b[?25hRequirement already satisfied: python-dateutil in /usr/local/lib/python3.7/site-packages (from kaggle->opendatasets) (2.8.2)\n",
      "Collecting requests\n",
      "  Downloading requests-2.26.0-py2.py3-none-any.whl (62 kB)\n",
      "\u001b[K     |████████████████████████████████| 62 kB 1.2 MB/s eta 0:00:01\n",
      "\u001b[?25hCollecting python-slugify\n",
      "  Downloading python_slugify-5.0.2-py2.py3-none-any.whl (6.7 kB)\n",
      "Collecting urllib3\n",
      "  Downloading urllib3-1.26.7-py2.py3-none-any.whl (138 kB)\n",
      "\u001b[K     |████████████████████████████████| 138 kB 7.8 MB/s eta 0:00:01\n",
      "\u001b[?25hCollecting text-unidecode>=1.3\n",
      "  Downloading text_unidecode-1.3-py2.py3-none-any.whl (78 kB)\n",
      "\u001b[K     |████████████████████████████████| 78 kB 3.4 MB/s eta 0:00:01\n",
      "\u001b[?25hCollecting idna<4,>=2.5\n",
      "  Downloading idna-3.3-py3-none-any.whl (61 kB)\n",
      "\u001b[K     |████████████████████████████████| 61 kB 10.3 MB/s eta 0:00:01\n",
      "\u001b[?25hCollecting charset-normalizer~=2.0.0\n",
      "  Downloading charset_normalizer-2.0.7-py3-none-any.whl (38 kB)\n",
      "Building wheels for collected packages: kaggle\n",
      "  Building wheel for kaggle (setup.py) ... \u001b[?25ldone\n",
      "\u001b[?25h  Created wheel for kaggle: filename=kaggle-1.5.12-py3-none-any.whl size=73051 sha256=d4cf1190865cdd035acc6fe34b9e29cd0dfb784a62b6c88d31fffd523f82e38d\n",
      "  Stored in directory: /root/.cache/pip/wheels/62/d6/58/5853130f941e75b2177d281eb7e44b4a98ed46dd155f556dc5\n",
      "Successfully built kaggle\n",
      "Installing collected packages: urllib3, text-unidecode, idna, charset-normalizer, certifi, requests, python-slugify, kaggle, click, opendatasets\n",
      "Successfully installed certifi-2021.10.8 charset-normalizer-2.0.7 click-8.0.3 idna-3.3 kaggle-1.5.12 opendatasets-0.1.20 python-slugify-5.0.2 requests-2.26.0 text-unidecode-1.3 urllib3-1.26.7\n",
      "\u001b[33mWARNING: Running pip as the 'root' user can result in broken permissions and conflicting behaviour with the system package manager. It is recommended to use a virtual environment instead: https://pip.pypa.io/warnings/venv\u001b[0m\n",
      "\u001b[33mWARNING: You are using pip version 21.2.4; however, version 21.3.1 is available.\n",
      "You should consider upgrading via the '/usr/local/bin/python -m pip install --upgrade pip' command.\u001b[0m\n"
     ]
    }
   ],
   "source": [
    "!pip install opendatasets"
   ]
  },
  {
   "cell_type": "code",
   "execution_count": 3,
   "id": "bb6f261c",
   "metadata": {},
   "outputs": [],
   "source": [
    "import opendatasets as od"
   ]
  },
  {
   "cell_type": "code",
   "execution_count": 4,
   "id": "43d58a96",
   "metadata": {},
   "outputs": [
    {
     "name": "stdout",
     "output_type": "stream",
     "text": [
      "Please provide your Kaggle credentials to download this dataset. Learn more: http://bit.ly/kaggle-creds\n",
      "Your Kaggle username: beatrizmuniz\n",
      "Your Kaggle Key: ········\n",
      "Downloading stacksample.zip to ./stacksample\n"
     ]
    },
    {
     "name": "stderr",
     "output_type": "stream",
     "text": [
      "100%|██████████| 1.11G/1.11G [03:19<00:00, 5.97MB/s]\n"
     ]
    },
    {
     "name": "stdout",
     "output_type": "stream",
     "text": [
      "\n"
     ]
    }
   ],
   "source": [
    "od.download(\"https://www.kaggle.com/stackoverflow/stacksample\")"
   ]
  },
  {
   "cell_type": "markdown",
   "id": "376bddf9",
   "metadata": {},
   "source": [
    "# Lendo os Dados"
   ]
  },
  {
   "cell_type": "code",
   "execution_count": 46,
   "id": "5d96af7e",
   "metadata": {},
   "outputs": [],
   "source": [
    "tags = pd.read_csv(\"stacksample/Tags.csv\")\n",
    "quests = pd.read_csv(\"stacksample/Questions.csv\", encoding='ISO-8859-1', engine='python')\n",
    "answ = pd.read_csv(\"stacksample/Answers.csv\", encoding='ISO-8859-1', engine='python')"
   ]
  },
  {
   "cell_type": "code",
   "execution_count": 49,
   "id": "b69c29e3",
   "metadata": {},
   "outputs": [],
   "source": [
    "#filtrando perguntas apenas para aquelas de 2016 \n",
    "quests = quests[(quests['CreationDate'] >= '2016-00-00T00:00:00Z')]"
   ]
  },
  {
   "cell_type": "code",
   "execution_count": 50,
   "id": "1ec4ef11",
   "metadata": {},
   "outputs": [
    {
     "data": {
      "text/plain": [
       "211049"
      ]
     },
     "execution_count": 50,
     "metadata": {},
     "output_type": "execute_result"
    }
   ],
   "source": [
    "#numero total de perguntas em 2016\n",
    "quests.shape[0]"
   ]
  },
  {
   "cell_type": "code",
   "execution_count": 51,
   "id": "dfd803bf",
   "metadata": {},
   "outputs": [],
   "source": [
    "#filtrando as tags para pegar apenas as dos posts de 2016\n",
    "tags = tags[tags['Id'].isin(quests['Id'])]"
   ]
  },
  {
   "cell_type": "code",
   "execution_count": 53,
   "id": "a8dbdd59",
   "metadata": {},
   "outputs": [
    {
     "data": {
      "text/plain": [
       "631280"
      ]
     },
     "execution_count": 53,
     "metadata": {},
     "output_type": "execute_result"
    }
   ],
   "source": [
    "#quantidade de tags no total (não únicas; cada fileira representa uma tag associada a uma pergunta;uma tag pode ser \n",
    "#associada a mais de uma pergunta)\n",
    "tags.shape[0]"
   ]
  },
  {
   "cell_type": "code",
   "execution_count": 54,
   "id": "b62ede96",
   "metadata": {},
   "outputs": [],
   "source": [
    "#filtrando as tags para manter apenas as perguntas que possuem duas ou mais tags associadas\n",
    "tags = tags.groupby('Id').filter(lambda x: len(x) > 2)"
   ]
  },
  {
   "cell_type": "code",
   "execution_count": 55,
   "id": "483173f7",
   "metadata": {},
   "outputs": [
    {
     "data": {
      "text/plain": [
       "498815"
      ]
     },
     "execution_count": 55,
     "metadata": {},
     "output_type": "execute_result"
    }
   ],
   "source": [
    "#quantidade de tags depois de filtrar\n",
    "tags.shape[0]"
   ]
  },
  {
   "cell_type": "code",
   "execution_count": 56,
   "id": "8c9e400e",
   "metadata": {},
   "outputs": [],
   "source": [
    "#filtrando as perguntas para ter apenas as com 2 ou mais tags\n",
    "quests = quests[quests['Id'].isin(tags['Id'])]"
   ]
  },
  {
   "cell_type": "code",
   "execution_count": 57,
   "id": "9031b5af",
   "metadata": {},
   "outputs": [
    {
     "data": {
      "text/plain": [
       "132407"
      ]
     },
     "execution_count": 57,
     "metadata": {},
     "output_type": "execute_result"
    }
   ],
   "source": [
    "#quantidade de perguntas depois de filtrar\n",
    "quests.shape[0]"
   ]
  },
  {
   "cell_type": "markdown",
   "id": "801526d4",
   "metadata": {},
   "source": [
    "# Fazendo o grafo"
   ]
  },
  {
   "cell_type": "code",
   "execution_count": 69,
   "id": "9b1f233b",
   "metadata": {},
   "outputs": [],
   "source": [
    "#setup do grafo\n",
    "g = Graph(directed=False) # não dirigido\n",
    "g.vp['name'] = g.new_vp('object')\n",
    "g.ep['counter'] = g.new_ep('object')"
   ]
  },
  {
   "cell_type": "code",
   "execution_count": 72,
   "id": "6ba8391f",
   "metadata": {},
   "outputs": [],
   "source": [
    "# adiciona vertice de uma tag ao grafo\n",
    "def addTag(tag):\n",
    "    g.add_vertex()\n",
    "    list_tags.append(tag)\n",
    "    v_tag = g.vertex(list_tags.index(tag))\n",
    "    g.vp['name'][v_tag] = str(tag)"
   ]
  },
  {
   "cell_type": "code",
   "execution_count": 73,
   "id": "d3e08aad",
   "metadata": {},
   "outputs": [],
   "source": [
    "#adiciona aresta ao grafo quando duas tags estão presentes na mesma pergunta\n",
    "def addConnec(tag1, tag2):\n",
    "    index1 = list_tags.index(tag1)\n",
    "    index2 = list_tags.index(tag2)\n",
    "    \n",
    "    if g.edge(index1, index2) == None:\n",
    "        g.add_edge(index1, index2)\n",
    "        e=g.edge(index1, index2)\n",
    "        g.ep['counter'][e] = 1\n",
    "    else:\n",
    "        e=g.edge(index1, index2)\n",
    "        g.ep['counter'][e] = g.ep['counter'][e] + 1"
   ]
  },
  {
   "cell_type": "code",
   "execution_count": 82,
   "id": "9460d25e",
   "metadata": {},
   "outputs": [
    {
     "ename": "KeyboardInterrupt",
     "evalue": "",
     "output_type": "error",
     "traceback": [
      "\u001b[0;31m---------------------------------------------------------------------------\u001b[0m",
      "\u001b[0;31mKeyboardInterrupt\u001b[0m                         Traceback (most recent call last)",
      "\u001b[0;32m/tmp/ipykernel_186/3925404871.py\u001b[0m in \u001b[0;36m<module>\u001b[0;34m\u001b[0m\n\u001b[1;32m     14\u001b[0m             \u001b[0;32mif\u001b[0m \u001b[0mtag\u001b[0m \u001b[0;32mnot\u001b[0m \u001b[0;32min\u001b[0m \u001b[0mlist_tags\u001b[0m\u001b[0;34m:\u001b[0m\u001b[0;34m\u001b[0m\u001b[0;34m\u001b[0m\u001b[0m\n\u001b[1;32m     15\u001b[0m                 \u001b[0maddTag\u001b[0m\u001b[0;34m(\u001b[0m\u001b[0mtag\u001b[0m\u001b[0;34m)\u001b[0m\u001b[0;34m\u001b[0m\u001b[0;34m\u001b[0m\u001b[0m\n\u001b[0;32m---> 16\u001b[0;31m             \u001b[0;32mif\u001b[0m \u001b[0mnextTag\u001b[0m \u001b[0;32mnot\u001b[0m \u001b[0;32min\u001b[0m \u001b[0mlist_tags\u001b[0m\u001b[0;34m:\u001b[0m\u001b[0;34m\u001b[0m\u001b[0;34m\u001b[0m\u001b[0m\n\u001b[0m\u001b[1;32m     17\u001b[0m                 \u001b[0maddTag\u001b[0m\u001b[0;34m(\u001b[0m\u001b[0mnextTag\u001b[0m\u001b[0;34m)\u001b[0m\u001b[0;34m\u001b[0m\u001b[0;34m\u001b[0m\u001b[0m\n\u001b[1;32m     18\u001b[0m \u001b[0;34m\u001b[0m\u001b[0m\n",
      "\u001b[0;31mKeyboardInterrupt\u001b[0m: "
     ]
    }
   ],
   "source": [
    "list_tags = []\n",
    "for tagIndex in range(tags.shape[0] - 2):\n",
    "    tag = tags.iloc[tagIndex]['Tag']\n",
    "    questId = tags.iloc[tagIndex]['Id']\n",
    "    \n",
    "    sameQuest = True\n",
    "    i=1\n",
    "    \n",
    "    while sameQuest:\n",
    "        nextTag = tags.iloc[tagIndex + i]['Tag']\n",
    "        nextId = tags.iloc[tagIndex + i]['Id']\n",
    "\n",
    "        if questId == nextId:\n",
    "            if tag not in list_tags:\n",
    "                addTag(tag)\n",
    "            if nextTag not in list_tags:\n",
    "                addTag(nextTag)\n",
    "\n",
    "            addConnec(tag, nextTag)\n",
    "        else:\n",
    "            sameQuest = False\n",
    "        \n",
    "        if ((tagIndex + i) < (tags.shape[0] - 1)):\n",
    "            i += 1"
   ]
  },
  {
   "cell_type": "code",
   "execution_count": 75,
   "id": "cf8d32ac",
   "metadata": {},
   "outputs": [],
   "source": [
    "#posicionando vertices de acordo com o algoritmo SFDP, que evidencia \"panelinhas\"\n",
    "m = draw_gt.sfdp_layout(g)\n",
    "move_gt(g, m)\n",
    "save_gt(g, 'exemplo.net.gz')"
   ]
  },
  {
   "cell_type": "code",
   "execution_count": 78,
   "id": "11a29d33",
   "metadata": {
    "scrolled": true
   },
   "outputs": [
    {
     "data": {
      "text/html": [
       "\n",
       "        <div id=\"95VL6apzfXRijbUN3DwJ9Y\"></div>\n",
       "        <script>netpixi.render('95VL6apzfXRijbUN3DwJ9Y', 'exemplo.net.gz', 1.7777777777777777, true, false, false);</script>\n",
       "    "
      ],
      "text/plain": [
       "<IPython.core.display.HTML object>"
      ]
     },
     "metadata": {},
     "output_type": "display_data"
    }
   ],
   "source": [
    "#rederiza visualizacao do grafo\n",
    "r = netpixi.render('exemplo.net.gz')"
   ]
  },
  {
   "cell_type": "code",
   "execution_count": 77,
   "id": "7318eeb6",
   "metadata": {},
   "outputs": [
    {
     "data": {
      "text/html": [
       "\n",
       "        <div id=\"GCEM7gduAshuDBomKQtxGb\"></div>\n",
       "        <script>netpixi.call('GCEM7gduAshuDBomKQtxGb', 'ZtogXxebur7yBEXtcUrzHo', 'setGraph', 'eyJ0eXBlIjogInZlcnRleCIsICJwcm9wcyI6IHsic3JjIjogIm5hbWUiLCAiZHN0IjogIl9rZXkifX0K');</script>\n",
       "    "
      ],
      "text/plain": [
       "<IPython.core.display.HTML object>"
      ]
     },
     "metadata": {},
     "output_type": "display_data"
    }
   ],
   "source": [
    "#mostra os nomes dos jogadores na visualizacao\n",
    "#CUIDADO QUE QUANDO VC RODA ISSO O ARQUIVO FICA INFINTAMENTE MAIS PESADO\n",
    "r.vertex_set_key('name')"
   ]
  },
  {
   "cell_type": "code",
   "execution_count": 83,
   "id": "bcb82ef4",
   "metadata": {},
   "outputs": [
    {
     "data": {
      "text/plain": [
       "22258"
      ]
     },
     "execution_count": 83,
     "metadata": {},
     "output_type": "execute_result"
    }
   ],
   "source": [
    "#quantidade de tags únicas\n",
    "len(list_tags)"
   ]
  },
  {
   "cell_type": "code",
   "execution_count": null,
   "id": "6f7a3249",
   "metadata": {},
   "outputs": [],
   "source": []
  }
 ],
 "metadata": {
  "kernelspec": {
   "display_name": "Python 3 (ipykernel)",
   "language": "python",
   "name": "python3"
  },
  "language_info": {
   "codemirror_mode": {
    "name": "ipython",
    "version": 3
   },
   "file_extension": ".py",
   "mimetype": "text/x-python",
   "name": "python",
   "nbconvert_exporter": "python",
   "pygments_lexer": "ipython3",
   "version": "3.7.11"
  }
 },
 "nbformat": 4,
 "nbformat_minor": 5
}
